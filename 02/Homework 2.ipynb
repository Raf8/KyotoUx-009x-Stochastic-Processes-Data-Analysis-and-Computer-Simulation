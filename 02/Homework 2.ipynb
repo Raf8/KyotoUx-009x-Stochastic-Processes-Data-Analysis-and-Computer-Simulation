{
 "cells": [
  {
   "cell_type": "code",
   "execution_count": 1,
   "metadata": {
    "collapsed": true
   },
   "outputs": [],
   "source": [
    "% matplotlib inline\n",
    "import numpy as np # import numpy library as np\n",
    "import math # use mathematical functions defined by the C standard\n",
    "import matplotlib.pyplot as plt # import pyplot library as plt \n",
    "plt.style.use('ggplot') # use \"ggplot\" style for graphs"
   ]
  },
  {
   "cell_type": "code",
   "execution_count": 5,
   "metadata": {},
   "outputs": [
    {
     "data": {
      "image/png": "[encoded data removed]",
      "text/plain": [
       "<matplotlib.figure.Figure at 0x7f9de8854ac8>"
      ]
     },
     "metadata": {},
     "output_type": "display_data"
    }
   ],
   "source": [
    "# Homework 2-3\n",
    "def rng(seed, a, b, M, ntotal):\n",
    "    data = np.zeros(ntotal)\n",
    "    data[0] = seed\n",
    "    for i in range(1,ntotal):\n",
    "        data[i] = np.mod((a*data[i-1]+b), M)\n",
    "    return data/np.float(M)\n",
    "\n",
    "M = 134456\n",
    "a = 8121\n",
    "b = 28411\n",
    "seed = 123456 # X0\n",
    "ntotal = np.int(5e5)\n",
    "\n",
    "zeta = rng(seed, a, b, M, ntotal)\n",
    "nmin=0.\n",
    "nmax=1.\n",
    "#nbin=np.int((nmax-nmin)/4)\n",
    "plt.hist(zeta, range=[nmin,nmax], normed=True) # plot normalized histogram of zeta\n",
    "plt.xlabel(r'$\\zeta$',fontsize=16) # set x-label\n",
    "plt.ylabel(r'$P(\\zeta)$',fontsize=16) # set y-label\n",
    "plt.show()"
   ]
  },
  {
   "cell_type": "code",
   "execution_count": 9,
   "metadata": {},
   "outputs": [
    {
     "data": {
      "image/png": "[encoded data removed]",
      "text/plain": [
       "<matplotlib.figure.Figure at 0x7f9dd6967b00>"
      ]
     },
     "metadata": {},
     "output_type": "display_data"
    }
   ],
   "source": [
    "# Homework 2-4\n",
    "def auto_correlate(x):\n",
    "    cor = np.correlate(x,x,mode=\"full\")\n",
    "    return cor[N-1:]\n",
    "N = np.int(1e5)\n",
    "X = rng(seed, a, b, M, N)\n",
    "c = np.zeros(N)\n",
    "c = auto_correlate(X-np.average(X))/N\n",
    "plt.plot(c/c[0])\n",
    "plt.xlim(-500,8000)\n",
    "plt.xlabel(r'$i$',fontsize=16)\n",
    "plt.ylabel(r'$\\varphi(i)$',fontsize=16)\n",
    "plt.show()"
   ]
  },
  {
   "cell_type": "code",
   "execution_count": 12,
   "metadata": {},
   "outputs": [
    {
     "name": "stdout",
     "output_type": "stream",
     "text": [
      "0.95448\n"
     ]
    }
   ],
   "source": [
    "# Homework 2-5\n",
    "N = np.int(1e5)\n",
    "ave = 0.0 # set average\n",
    "std = 1.0 # set standard deviation\n",
    "X = ave + std*np.random.randn(N)\n",
    "z = np.mean(np.abs(X - ave) <= 2*std)\n",
    "print(z)"
   ]
  },
  {
   "cell_type": "code",
   "execution_count": 13,
   "metadata": {},
   "outputs": [
    {
     "name": "stdout",
     "output_type": "stream",
     "text": [
      "0.0\n"
     ]
    }
   ],
   "source": [
    "# Homework 2-6\n",
    "N = np.int(1e5)\n",
    "ave = 0.0 # set average\n",
    "std = 1.0 # set standard deviation\n",
    "X = ave + std*np.random.randn(N)\n",
    "z = np.mean(X > 5*std)\n",
    "print(z)"
   ]
  },
  {
   "cell_type": "code",
   "execution_count": null,
   "metadata": {
    "collapsed": true
   },
   "outputs": [],
   "source": []
  }
 ],
 "metadata": {
  "kernelspec": {
   "display_name": "Python 3",
   "language": "python",
   "name": "python3"
  },
  "language_info": {
   "codemirror_mode": {
    "name": "ipython",
    "version": 3
   },
   "file_extension": ".py",
   "mimetype": "text/x-python",
   "name": "python",
   "nbconvert_exporter": "python",
   "pygments_lexer": "ipython3",
   "version": "3.6.2"
  }
 },
 "nbformat": 4,
 "nbformat_minor": 2
}
